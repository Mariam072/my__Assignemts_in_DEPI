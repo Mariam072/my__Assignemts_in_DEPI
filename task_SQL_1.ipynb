{
 "cells": [
  {
   "cell_type": "code",
   "execution_count": 1,
   "metadata": {},
   "outputs": [],
   "source": [
    "import sqlite3"
   ]
  },
  {
   "cell_type": "code",
   "execution_count": 2,
   "metadata": {},
   "outputs": [],
   "source": [
    "# Create connection\n",
    "conn = sqlite3.connect('campany.db')\n",
    "cursor = conn.cursor()"
   ]
  },
  {
   "cell_type": "code",
   "execution_count": null,
   "metadata": {},
   "outputs": [
    {
     "data": {
      "text/plain": [
       "<sqlite3.Cursor at 0x1d9c8d0b6c0>"
      ]
     },
     "execution_count": 3,
     "metadata": {},
     "output_type": "execute_result"
    }
   ],
   "source": [
    "#create my database\n",
    "\n",
    "cursor.execute('''CREATE TABLE employees (\n",
    "    emp_id INT PRIMARY KEY,\n",
    "    name VARCHAR(50),\n",
    "    last_name VARCHAR(50),\n",
    "    salary DECIMAL(10, 2),\n",
    "    manager_id INT,\n",
    "    department_id INT\n",
    ");''')\n",
    "\n",
    "cursor.execute('''CREATE TABLE departments (\n",
    "    department_id INT PRIMARY KEY,\n",
    "    name VARCHAR(50)\n",
    ")''')\n"
   ]
  },
  {
   "cell_type": "code",
   "execution_count": null,
   "metadata": {},
   "outputs": [
    {
     "data": {
      "text/plain": [
       "<sqlite3.Cursor at 0x1d9c8d0b6c0>"
      ]
     },
     "execution_count": 17,
     "metadata": {},
     "output_type": "execute_result"
    }
   ],
   "source": [
    "#insert values to my first table \n",
    "cursor.executemany('INSERT INTO employees (name, last_name, salary,manager_id,department_id) VALUES ( ?, ?, ?, ?, ?)', [\n",
    "('John', 'Doe', 3000, 101, 1),\n",
    "('Jane', 'Smith', 2500, 102, 2),\n",
    "('Alice', 'Johnson', 4000, 103, 3),\n",
    "( 'Bob', 'Brown', 2000, 200, 4),\n",
    "( 'Charlie', 'Davis', 5000, 101, 1),\n",
    "( 'Emma', 'Wilson', 2200, 102, 3),\n",
    "( 'Oliver', 'Taylor', 3200, 104, 2),\n",
    "( 'Sophia', 'Martinez', 4500, 105, 4)\n",
    "])\n",
    "\n"
   ]
  },
  {
   "cell_type": "code",
   "execution_count": null,
   "metadata": {},
   "outputs": [],
   "source": [
    "#insert values to my first table \n",
    "cursor.executemany('INSERT INTO departments (name) VALUES (?)', [\n",
    "    ('Human Resources',),\n",
    "    ('Finance',),\n",
    "    ('Engineering',),\n",
    "    ('Marketing',)\n",
    "])\n",
    "#save\n",
    "conn.commit()"
   ]
  },
  {
   "cell_type": "markdown",
   "metadata": {},
   "source": [
    "Task 1: Using Comparison and Logical Operators \n",
    "Question: \n",
    "Write a SQL query to retrieve the emp_id, last_name, and salary of employees whose salary is \n",
    "between 2,000 and 5,000 and do not have a manager ID of 101 or 200. \n",
    "Instructions: \n",
    "1. Use the SELECT statement to specify the columns: emp_id, last_name, and salary. \n",
    "2. Filter the results using the WHERE clause with the BETWEEN operator to set the salary range. \n",
    "3. Use the NOT IN clause to exclude certain manager IDs. \n",
    "4. Combine conditions using the AND logical operator. \n"
   ]
  },
  {
   "cell_type": "code",
   "execution_count": null,
   "metadata": {},
   "outputs": [
    {
     "name": "stdout",
     "output_type": "stream",
     "text": [
      "[(2, 'Smith', 2500), (3, 'Johnson', 4000), (6, 'Wilson', 2200), (7, 'Taylor', 3200), (8, 'Martinez', 4500), (None, 'Smith', 2500), (None, 'Johnson', 4000), (None, 'Wilson', 2200), (None, 'Taylor', 3200), (None, 'Martinez', 4500)]\n"
     ]
    }
   ],
   "source": [
    "cursor.execute('''SELECT emp_id, last_name, salary \n",
    "                FROM employees \n",
    "                WHERE salary BETWEEN 2000 AND 5000 AND manager_id NOT IN (101,200)''')\n",
    "#display the data\n",
    "print(cursor.fetchall())\n",
    "\n",
    "                "
   ]
  },
  {
   "cell_type": "markdown",
   "metadata": {},
   "source": [
    "Task 2: Using JOINs and Aliases \n",
    "Question: \n",
    "Write a SQL query to display the employee names along with their respective department names. \n",
    "Use aliases for table names for better readability. \n",
    "Instructions: \n",
    "1. Use the SELECT statement to specify the columns: employee.name and department.name. \n",
    "2. Use the FROM clause to include the tables employees and departments. \n",
    "3. Use an INNER JOIN to connect the employees and departments tables based on the \n",
    "department IDs. \n",
    "4. Use table aliases (e.g., e for employees, d for departments) to shorten the table names in the \n",
    "query. \n",
    "5. Order the results by department name in ascending order. "
   ]
  },
  {
   "cell_type": "code",
   "execution_count": 39,
   "metadata": {},
   "outputs": [
    {
     "name": "stdout",
     "output_type": "stream",
     "text": [
      "[('John', 'Human Resources'), ('John', 'Human Resources'), ('Jane', 'Finance'), ('Alice', 'Engineering'), ('Bob', 'Marketing'), ('Charlie', 'Human Resources'), ('Emma', 'Engineering'), ('Oliver', 'Finance'), ('Sophia', 'Marketing')]\n"
     ]
    }
   ],
   "source": [
    "cursor.execute('''SELECT emp.name ,dep.name\n",
    "               FROM employees emp\n",
    "               JOIN departments dep ON emp.department_id=dep.department_id\n",
    "               group by emp.emp_id ''')\n",
    "print(cursor.fetchall())               "
   ]
  },
  {
   "cell_type": "markdown",
   "metadata": {},
   "source": [
    "Task 3: Aggregate Functions and GROUP BY \n",
    "Question: \n",
    "Write a SQL query to find the number of employees and the average salary for each department. \n",
    "Ensure that the results are grouped by department ID. \n",
    "Instructions: \n",
    "1. Use the SELECT statement to specify the department ID, the count of employees, and the \n",
    "average salary. \n",
    "2. Use the GROUP BY clause to group the results by department ID. \n",
    "3. Use the COUNT() function to find the number of employees in each department. \n",
    "4. Use the AVG() function to calculate the average salary in each department. "
   ]
  },
  {
   "cell_type": "code",
   "execution_count": 54,
   "metadata": {},
   "outputs": [
    {
     "name": "stdout",
     "output_type": "stream",
     "text": [
      "[(1, 2, 4000.0, 'Human Resources'), (2, 2, 2850.0, 'Finance'), (3, 2, 3100.0, 'Engineering'), (4, 2, 3250.0, 'Marketing')]\n"
     ]
    }
   ],
   "source": [
    "cursor.execute(''' SELECT emp.department_id,COUNT(emp_id) , AVG (salary),dep.name\n",
    "                           FROM employees emp\n",
    "                           JOIN departments dep ON  emp.department_id=dep.department_id\n",
    "                           group by emp.department_id    ''')\n",
    "print(cursor.fetchall())                            "
   ]
  },
  {
   "cell_type": "code",
   "execution_count": null,
   "metadata": {},
   "outputs": [],
   "source": [
    "     "
   ]
  },
  {
   "cell_type": "code",
   "execution_count": null,
   "metadata": {},
   "outputs": [],
   "source": []
  }
 ],
 "metadata": {
  "kernelspec": {
   "display_name": "Python 3",
   "language": "python",
   "name": "python3"
  },
  "language_info": {
   "codemirror_mode": {
    "name": "ipython",
    "version": 3
   },
   "file_extension": ".py",
   "mimetype": "text/x-python",
   "name": "python",
   "nbconvert_exporter": "python",
   "pygments_lexer": "ipython3",
   "version": "3.11.4"
  }
 },
 "nbformat": 4,
 "nbformat_minor": 2
}
