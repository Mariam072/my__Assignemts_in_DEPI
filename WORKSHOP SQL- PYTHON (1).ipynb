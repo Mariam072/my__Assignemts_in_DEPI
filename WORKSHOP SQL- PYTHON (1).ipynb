{
 "cells": [
  {
   "cell_type": "code",
   "execution_count": 2,
   "metadata": {},
   "outputs": [],
   "source": [
    "import sqlite3\n"
   ]
  },
  {
   "cell_type": "code",
   "execution_count": 3,
   "metadata": {},
   "outputs": [],
   "source": [
    "# Create connection\n",
    "conn = sqlite3.connect('school.db')\n",
    "cursor = conn.cursor()"
   ]
  },
  {
   "cell_type": "code",
   "execution_count": 6,
   "metadata": {},
   "outputs": [
    {
     "data": {
      "text/plain": [
       "<sqlite3.Cursor at 0x166816680c0>"
      ]
     },
     "execution_count": 6,
     "metadata": {},
     "output_type": "execute_result"
    }
   ],
   "source": [
    "# Create tables\n",
    "cursor.execute('''CREATE TABLE IF NOT EXISTS students (\n",
    "    id INTEGER PRIMARY KEY AUTOINCREMENT,\n",
    "    name TEXT,\n",
    "    age INTEGER,\n",
    "    gender TEXT\n",
    ")''')\n",
    "\n",
    "cursor.execute('''CREATE TABLE IF NOT EXISTS courses (\n",
    "    id INTEGER PRIMARY KEY AUTOINCREMENT,\n",
    "    name TEXT,\n",
    "    credits INTEGER\n",
    ")''')\n",
    "\n",
    "cursor.execute('''CREATE TABLE IF NOT EXISTS enrollments (\n",
    "    id INTEGER PRIMARY KEY AUTOINCREMENT,\n",
    "    student_id INTEGER,\n",
    "    course_id INTEGER,\n",
    "    grade REAL,\n",
    "    FOREIGN KEY(student_id) REFERENCES students(id),\n",
    "    FOREIGN KEY(course_id) REFERENCES courses(id)\n",
    ")''')\n"
   ]
  },
  {
   "cell_type": "code",
   "execution_count": 8,
   "metadata": {},
   "outputs": [],
   "source": [
    "# Insert sample data\n",
    "cursor.executemany('INSERT INTO students (name, age, gender) VALUES (?, ?, ?)', [\n",
    "    ('Alice', 22, 'F'),\n",
    "    ('Bob', 20, 'M'),\n",
    "    ('Charlie', 23, 'M')\n",
    "])\n",
    "\n",
    "cursor.executemany('INSERT INTO courses (name, credits) VALUES (?, ?)', [\n",
    "    ('Math', 3),\n",
    "    ('Science', 4),\n",
    "    ('History', 2)\n",
    "])\n",
    "\n",
    "cursor.executemany('INSERT INTO enrollments (student_id, course_id, grade) VALUES (?, ?, ?)', [\n",
    "    (1, 1, 85),\n",
    "    (1, 2, 90),\n",
    "    (2, 1, 78),\n",
    "    (3, 3, 88)\n",
    "]) \n",
    "\n",
    "conn.commit()\n"
   ]
  },
  {
   "cell_type": "code",
   "execution_count": 9,
   "metadata": {},
   "outputs": [
    {
     "name": "stdout",
     "output_type": "stream",
     "text": [
      "[(1, 'Alice', 22, 'F'), (2, 'Bob', 20, 'M'), (3, 'Charlie', 23, 'M'), (4, 'Alice', 22, 'F'), (5, 'Bob', 20, 'M'), (6, 'Charlie', 23, 'M')]\n"
     ]
    }
   ],
   "source": [
    "# Select all students\n",
    "cursor.execute(\"SELECT * FROM students\")\n",
    "\n",
    "#Fetch All Data \n",
    "print(cursor.fetchall())\n"
   ]
  },
  {
   "cell_type": "code",
   "execution_count": 10,
   "metadata": {},
   "outputs": [],
   "source": [
    "# Insert a new student\n",
    "cursor.execute(\"INSERT INTO students (name, age, gender) VALUES ('David', 21, 'M')\")\n",
    "conn.commit()\n",
    "\n"
   ]
  },
  {
   "cell_type": "code",
   "execution_count": null,
   "metadata": {},
   "outputs": [
    {
     "name": "stdout",
     "output_type": "stream",
     "text": [
      "[(1, 'Alice', 22, 'F'), (2, 'Bob', 20, 'M'), (3, 'Charlie', 23, 'M'), (4, 'Alice', 22, 'F'), (5, 'Bob', 20, 'M'), (6, 'Charlie', 23, 'M'), (7, 'David', 21, 'M')]\n"
     ]
    }
   ],
   "source": [
    "# Filter students older than 21\n",
    "cursor.execute(\"SELECT * FROM students WHERE age > 21\")\n",
    "print(cursor.fetchall())"
   ]
  },
  {
   "cell_type": "markdown",
   "metadata": {},
   "source": [
    "## joins \n",
    "# INNER JOIN \n",
    "<img src=\"https://www.google.com/url?sa=i&url=https%3A%2F%2Fwww.reddit.com%2Fr%2Fprogramming%2Fcomments%2F1xlqeu%2Fsql_joins_explained_xpost_rsql%2F&psig=AOvVaw3cYEni5x6GQ1BNrVlO287i&ust=1733509609462000&source=images&cd=vfe&opi=89978449&ved=2ahUKEwi79ZTVoJGKAxUFTEEAHR4hL-IQjRx6BAgAEBk\" alt=\"SQL Joins Explained\" width=\"600\">\n"
   ]
  },
  {
   "cell_type": "code",
   "execution_count": 15,
   "metadata": {},
   "outputs": [
    {
     "name": "stdout",
     "output_type": "stream",
     "text": [
      "[('Alice', 85.0), ('Alice', 90.0), ('Charlie', 88.0), ('Alice', 85.0), ('Alice', 90.0), ('Charlie', 88.0)]\n"
     ]
    }
   ],
   "source": [
    "# Retrieve students with grades between 80 and 90\n",
    "cursor.execute('''SELECT s.name, e.grade \n",
    "                  FROM students s \n",
    "                  JOIN enrollments e ON s.id = e.student_id \n",
    "                  WHERE e.grade BETWEEN 80 AND 90''')\n",
    "print(cursor.fetchall())"
   ]
  },
  {
   "cell_type": "code",
   "execution_count": 14,
   "metadata": {},
   "outputs": [
    {
     "name": "stdout",
     "output_type": "stream",
     "text": [
      "[('Math', 3), ('Science', 4), ('History', 2), ('Math', 3), ('Science', 4), ('History', 2)]\n"
     ]
    }
   ],
   "source": [
    "# Total credits for each course\n",
    "cursor.execute(\"SELECT name, credits FROM courses\")\n",
    "print(cursor.fetchall())\n",
    "\n"
   ]
  },
  {
   "cell_type": "code",
   "execution_count": 13,
   "metadata": {},
   "outputs": [
    {
     "name": "stdout",
     "output_type": "stream",
     "text": [
      "[(3, 'Charlie', 23, 'M'), (6, 'Charlie', 23, 'M'), (1, 'Alice', 22, 'F'), (4, 'Alice', 22, 'F'), (7, 'David', 21, 'M'), (2, 'Bob', 20, 'M'), (5, 'Bob', 20, 'M')]\n"
     ]
    }
   ],
   "source": [
    "# Students sorted by age descending\n",
    "cursor.execute(\"SELECT * FROM students ORDER BY age DESC\")\n",
    "print(cursor.fetchall())"
   ]
  },
  {
   "cell_type": "code",
   "execution_count": 16,
   "metadata": {},
   "outputs": [
    {
     "name": "stdout",
     "output_type": "stream",
     "text": [
      "[('Alice',), ('Bob',), ('Charlie',), ('David',)]\n"
     ]
    }
   ],
   "source": [
    "# Students not enrolled in any courses (LEFT JOIN)\n",
    "cursor.execute('''SELECT s.name \n",
    "                  FROM students s \n",
    "                  LEFT JOIN enrollments e ON s.id = e.student_id \n",
    "                  WHERE e.id IS NULL''')\n",
    "print(cursor.fetchall())"
   ]
  },
  {
   "cell_type": "code",
   "execution_count": 33,
   "metadata": {},
   "outputs": [
    {
     "name": "stdout",
     "output_type": "stream",
     "text": [
      "[('Alice', 'Math'), ('Alice', 'Science'), ('Bob', 'Math'), ('Charlie', 'History'), ('Alice', 'Math'), ('Alice', 'Science'), ('Bob', 'Math'), ('Charlie', 'History')]\n"
     ]
    }
   ],
   "source": [
    "# Inner join: students and their courses\n",
    "cursor.execute('''select s.name as student_name , c.name as course_name\n",
    "             from students s \n",
    "            join enrollments e on s.id = e.student_id\n",
    "            join courses c on c.id = e.course_id''')\n",
    "\n",
    "#cursor.execute('''select s.name  , c.name \n",
    " #            from students s \n",
    "  #           join courses c on s.id = c.id''')\n",
    "\n",
    "\n",
    "print(cursor.fetchall())"
   ]
  },
  {
   "cell_type": "code",
   "execution_count": 35,
   "metadata": {},
   "outputs": [
    {
     "name": "stdout",
     "output_type": "stream",
     "text": [
      "[('Math', 81.5), ('Science', 90.0), ('History', 88.0)]\n",
      "[('Math', 4), ('Science', 2), ('History', 2)]\n"
     ]
    }
   ],
   "source": [
    "# Average grade for each course\n",
    "cursor.execute(''' select c.name , AVG (e.grade) AS average_grade \n",
    "               from enrollments e \n",
    "               join courses c on c.id = e.course_id \n",
    "               group by c.id ''')\n",
    "\n",
    "print(cursor.fetchall())\n",
    "# Courses with more than one enrollment\n",
    "cursor.execute('''select c.name , COUNT(e.id) AS enrollments\n",
    "               from courses c \n",
    "               join enrollments e ON c.id = e.course_id \n",
    "               group by c.id having COUNT(e.id) > 1''')\n",
    "print(cursor.fetchall())\n"
   ]
  },
  {
   "cell_type": "markdown",
   "metadata": {},
   "source": [
    "## Hands-On Activity\n",
    "# Objective: Consolidate knowledge by solving problems.\n",
    "# Task:\n",
    "- Write a query to find students enrolled in \"Math\" with grades above 80.\n",
    "- List all students and their total number of enrolled courses."
   ]
  },
  {
   "cell_type": "code",
   "execution_count": 22,
   "metadata": {},
   "outputs": [
    {
     "name": "stdout",
     "output_type": "stream",
     "text": [
      "[('Alice', 85.0)]\n"
     ]
    }
   ],
   "source": [
    "# Query to find students enrolled in \"Math\" with grades above 80\n",
    "cursor.execute('''SELECT s.name AS student_name, e.grade \n",
    "                  FROM students s\n",
    "                  JOIN enrollments e ON s.id = e.student_id\n",
    "                  JOIN courses c ON c.id = e.course_id\n",
    "                  WHERE c.name = 'Math' AND e.grade > 80''')\n",
    "print(cursor.fetchall())\n",
    "\n"
   ]
  },
  {
   "cell_type": "code",
   "execution_count": 23,
   "metadata": {},
   "outputs": [
    {
     "name": "stdout",
     "output_type": "stream",
     "text": [
      "[('Alice', 2), ('Bob', 1), ('Charlie', 1), ('David', 0), ('David', 0), ('David', 0)]\n"
     ]
    }
   ],
   "source": [
    "# Query to list students and their total number of enrolled courses\n",
    "cursor.execute('''SELECT s.name AS student_name, COUNT(e.course_id) AS total_courses\n",
    "                  FROM students s\n",
    "                  LEFT JOIN enrollments e ON s.id = e.student_id\n",
    "                  GROUP BY s.id''')\n",
    "print(cursor.fetchall())"
   ]
  },
  {
   "cell_type": "code",
   "execution_count": 24,
   "metadata": {},
   "outputs": [],
   "source": [
    "conn.close()"
   ]
  },
  {
   "cell_type": "code",
   "execution_count": null,
   "metadata": {},
   "outputs": [],
   "source": [
    "!pip install pymongo"
   ]
  },
  {
   "cell_type": "code",
   "execution_count": 25,
   "metadata": {},
   "outputs": [],
   "source": [
    "from pymongo import MongoClient\n"
   ]
  },
  {
   "cell_type": "code",
   "execution_count": 26,
   "metadata": {},
   "outputs": [],
   "source": [
    "client = MongoClient(\"mongodb://localhost:27017/\")\n",
    "db = client[\"TaskManagement\"]\n",
    "tasks_collection = db[\"Tasks\"]\n"
   ]
  },
  {
   "cell_type": "code",
   "execution_count": 27,
   "metadata": {},
   "outputs": [
    {
     "name": "stdout",
     "output_type": "stream",
     "text": [
      "{'_id': ObjectId('6751a0fa43e703d665ad4fee'), 'task_id': 1, 'title': 'Prepare Presentation', 'description': 'Prepare the project presentation for the client.', 'status': 'In Progress', 'priority': 'High', 'due_date': '2024-12-15', 'assigned_to': 'Mohamed'}\n",
      "{'_id': ObjectId('6751a0fa43e703d665ad4fef'), 'task_id': 2, 'title': 'Finalize Budget', 'description': 'Complete the budget for the new project.', 'status': 'Pending', 'priority': 'Medium', 'due_date': '2024-12-20', 'assigned_to': 'Fatima'}\n",
      "{'_id': ObjectId('6751a0fa43e703d665ad4ff0'), 'task_id': 3, 'title': 'Team Meeting', 'description': 'Weekly team meeting to discuss project status.', 'status': 'Completed', 'priority': 'Low', 'due_date': '2024-12-05', 'assigned_to': 'Ali'}\n"
     ]
    }
   ],
   "source": [
    "all_tasks = tasks_collection.find()\n",
    "for task in all_tasks:\n",
    "    print(task)"
   ]
  },
  {
   "cell_type": "code",
   "execution_count": 28,
   "metadata": {},
   "outputs": [
    {
     "name": "stdout",
     "output_type": "stream",
     "text": [
      "{'_id': ObjectId('6751a0fa43e703d665ad4fee'), 'task_id': 1, 'title': 'Prepare Presentation', 'description': 'Prepare the project presentation for the client.', 'status': 'In Progress', 'priority': 'High', 'due_date': '2024-12-15', 'assigned_to': 'Mohamed'}\n"
     ]
    }
   ],
   "source": [
    "in_progress_tasks = tasks_collection.find({\"status\": \"In Progress\"})\n",
    "for task in in_progress_tasks:\n",
    "    print(task)"
   ]
  },
  {
   "cell_type": "code",
   "execution_count": 29,
   "metadata": {},
   "outputs": [],
   "source": [
    "import pandas as pd\n"
   ]
  },
  {
   "cell_type": "code",
   "execution_count": 36,
   "metadata": {},
   "outputs": [],
   "source": [
    "all_tasks = tasks_collection.find()\n",
    "tasks_list = list(all_tasks)\n"
   ]
  },
  {
   "cell_type": "code",
   "execution_count": 37,
   "metadata": {},
   "outputs": [],
   "source": [
    "tasks_df = pd.DataFrame(tasks_list)\n"
   ]
  },
  {
   "cell_type": "code",
   "execution_count": 38,
   "metadata": {},
   "outputs": [
    {
     "data": {
      "text/html": [
       "<div>\n",
       "<style scoped>\n",
       "    .dataframe tbody tr th:only-of-type {\n",
       "        vertical-align: middle;\n",
       "    }\n",
       "\n",
       "    .dataframe tbody tr th {\n",
       "        vertical-align: top;\n",
       "    }\n",
       "\n",
       "    .dataframe thead th {\n",
       "        text-align: right;\n",
       "    }\n",
       "</style>\n",
       "<table border=\"1\" class=\"dataframe\">\n",
       "  <thead>\n",
       "    <tr style=\"text-align: right;\">\n",
       "      <th></th>\n",
       "      <th>_id</th>\n",
       "      <th>task_id</th>\n",
       "      <th>title</th>\n",
       "      <th>description</th>\n",
       "      <th>status</th>\n",
       "      <th>priority</th>\n",
       "      <th>due_date</th>\n",
       "      <th>assigned_to</th>\n",
       "    </tr>\n",
       "  </thead>\n",
       "  <tbody>\n",
       "    <tr>\n",
       "      <th>0</th>\n",
       "      <td>6751a0fa43e703d665ad4fee</td>\n",
       "      <td>1</td>\n",
       "      <td>Prepare Presentation</td>\n",
       "      <td>Prepare the project presentation for the client.</td>\n",
       "      <td>In Progress</td>\n",
       "      <td>High</td>\n",
       "      <td>2024-12-15</td>\n",
       "      <td>Mohamed</td>\n",
       "    </tr>\n",
       "    <tr>\n",
       "      <th>1</th>\n",
       "      <td>6751a0fa43e703d665ad4fef</td>\n",
       "      <td>2</td>\n",
       "      <td>Finalize Budget</td>\n",
       "      <td>Complete the budget for the new project.</td>\n",
       "      <td>Pending</td>\n",
       "      <td>Medium</td>\n",
       "      <td>2024-12-20</td>\n",
       "      <td>Fatima</td>\n",
       "    </tr>\n",
       "    <tr>\n",
       "      <th>2</th>\n",
       "      <td>6751a0fa43e703d665ad4ff0</td>\n",
       "      <td>3</td>\n",
       "      <td>Team Meeting</td>\n",
       "      <td>Weekly team meeting to discuss project status.</td>\n",
       "      <td>Completed</td>\n",
       "      <td>Low</td>\n",
       "      <td>2024-12-05</td>\n",
       "      <td>Ali</td>\n",
       "    </tr>\n",
       "    <tr>\n",
       "      <th>3</th>\n",
       "      <td>675205b9344e856443e451ce</td>\n",
       "      <td>4</td>\n",
       "      <td>Prepare Presentation</td>\n",
       "      <td>Prepare the project presentation for the client.</td>\n",
       "      <td>In Progress</td>\n",
       "      <td>High</td>\n",
       "      <td>2024-12-15</td>\n",
       "      <td>Mohamed</td>\n",
       "    </tr>\n",
       "    <tr>\n",
       "      <th>4</th>\n",
       "      <td>675205b9344e856443e451cf</td>\n",
       "      <td>5</td>\n",
       "      <td>Finalize Budget</td>\n",
       "      <td>Complete the budget for the new project.</td>\n",
       "      <td>Pending</td>\n",
       "      <td>Medium</td>\n",
       "      <td>2024-12-20</td>\n",
       "      <td>Fatima</td>\n",
       "    </tr>\n",
       "    <tr>\n",
       "      <th>5</th>\n",
       "      <td>675205b9344e856443e451d0</td>\n",
       "      <td>6</td>\n",
       "      <td>Team Meeting</td>\n",
       "      <td>Weekly team meeting to discuss project status.</td>\n",
       "      <td>Completed</td>\n",
       "      <td>Low</td>\n",
       "      <td>2024-12-05</td>\n",
       "      <td>Ali</td>\n",
       "    </tr>\n",
       "  </tbody>\n",
       "</table>\n",
       "</div>"
      ],
      "text/plain": [
       "                        _id  task_id                 title  \\\n",
       "0  6751a0fa43e703d665ad4fee        1  Prepare Presentation   \n",
       "1  6751a0fa43e703d665ad4fef        2       Finalize Budget   \n",
       "2  6751a0fa43e703d665ad4ff0        3          Team Meeting   \n",
       "3  675205b9344e856443e451ce        4  Prepare Presentation   \n",
       "4  675205b9344e856443e451cf        5       Finalize Budget   \n",
       "5  675205b9344e856443e451d0        6          Team Meeting   \n",
       "\n",
       "                                        description       status priority  \\\n",
       "0  Prepare the project presentation for the client.  In Progress     High   \n",
       "1          Complete the budget for the new project.      Pending   Medium   \n",
       "2    Weekly team meeting to discuss project status.    Completed      Low   \n",
       "3  Prepare the project presentation for the client.  In Progress     High   \n",
       "4          Complete the budget for the new project.      Pending   Medium   \n",
       "5    Weekly team meeting to discuss project status.    Completed      Low   \n",
       "\n",
       "     due_date assigned_to  \n",
       "0  2024-12-15     Mohamed  \n",
       "1  2024-12-20      Fatima  \n",
       "2  2024-12-05         Ali  \n",
       "3  2024-12-15     Mohamed  \n",
       "4  2024-12-20      Fatima  \n",
       "5  2024-12-05         Ali  "
      ]
     },
     "execution_count": 38,
     "metadata": {},
     "output_type": "execute_result"
    }
   ],
   "source": [
    "tasks_df"
   ]
  },
  {
   "cell_type": "code",
   "execution_count": 34,
   "metadata": {},
   "outputs": [],
   "source": [
    "tasks = [\n",
    "    {\n",
    "        \"task_id\": 4,\n",
    "        \"title\": \"Prepare Presentation\",\n",
    "        \"description\": \"Prepare the project presentation for the client.\",\n",
    "        \"status\": \"In Progress\",\n",
    "        \"priority\": \"High\",\n",
    "        \"due_date\": \"2024-12-15\",\n",
    "        \"assigned_to\": \"Mohamed\"\n",
    "    },\n",
    "    {\n",
    "        \"task_id\": 5,\n",
    "        \"title\": \"Finalize Budget\",\n",
    "        \"description\": \"Complete the budget for the new project.\",\n",
    "        \"status\": \"Pending\",\n",
    "        \"priority\": \"Medium\",\n",
    "        \"due_date\": \"2024-12-20\",\n",
    "        \"assigned_to\": \"Fatima\"\n",
    "    },\n",
    "    {\n",
    "        \"task_id\": 6,\n",
    "        \"title\": \"Team Meeting\",\n",
    "        \"description\": \"Weekly team meeting to discuss project status.\",\n",
    "        \"status\": \"Completed\",\n",
    "        \"priority\": \"Low\",\n",
    "        \"due_date\": \"2024-12-05\",\n",
    "        \"assigned_to\": \"Ali\"\n",
    "    }\n",
    "]\n"
   ]
  },
  {
   "cell_type": "code",
   "execution_count": 35,
   "metadata": {},
   "outputs": [
    {
     "data": {
      "text/plain": [
       "InsertManyResult([ObjectId('675205b9344e856443e451ce'), ObjectId('675205b9344e856443e451cf'), ObjectId('675205b9344e856443e451d0')], acknowledged=True)"
      ]
     },
     "execution_count": 35,
     "metadata": {},
     "output_type": "execute_result"
    }
   ],
   "source": [
    "tasks_collection.insert_many(tasks)"
   ]
  }
 ],
 "metadata": {
  "kernelspec": {
   "display_name": "Python 3",
   "language": "python",
   "name": "python3"
  },
  "language_info": {
   "codemirror_mode": {
    "name": "ipython",
    "version": 3
   },
   "file_extension": ".py",
   "mimetype": "text/x-python",
   "name": "python",
   "nbconvert_exporter": "python",
   "pygments_lexer": "ipython3",
   "version": "3.11.4"
  }
 },
 "nbformat": 4,
 "nbformat_minor": 2
}
