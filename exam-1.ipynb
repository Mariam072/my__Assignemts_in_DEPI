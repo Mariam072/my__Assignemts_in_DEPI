{
 "cells": [
  {
   "cell_type": "markdown",
   "metadata": {},
   "source": [
    "Part 1: Lists and List Slicing (20 points) "
   ]
  },
  {
   "cell_type": "markdown",
   "metadata": {},
   "source": [
    "Create a list of 10 integers ranging from 1 to 20. Then, do the following: \n",
    "\n",
    "o Extract and print the first 5 elements of the list.\n",
    "\n",
    "o Extract and print the last 3 elements using negative indexing.\n",
    "\n",
    "o Extract and print all elements from index 3 to index 7. "
   ]
  },
  {
   "cell_type": "code",
   "execution_count": 2,
   "metadata": {},
   "outputs": [
    {
     "name": "stdout",
     "output_type": "stream",
     "text": [
      "first five elements are [1, 3, 7, 5, 9]\n",
      "last three elements are [15, 17, 19]\n",
      "from 3 to 7 elements are [5, 9, 11, 13, 15]\n"
     ]
    }
   ],
   "source": [
    "#creating the list and fill it with numbers\n",
    "nums=[1,3,7,5,9,11,13,15,17,19]\n",
    "print(\"first five elements are\",nums[0:5])\n",
    "print(\"last three elements are\",nums[-3:])\n",
    "print(\"from 3 to 7 elements are\",nums[3:8])\n"
   ]
  },
  {
   "cell_type": "markdown",
   "metadata": {},
   "source": [
    "Write a Python program that: \n",
    "o Creates a list of 5 different fruits.\n",
    "\n",
    "o Add two more fruits to the list. \n",
    "\n",
    "o Remove the last fruit in the list. \n",
    "\n",
    "o Print the updated list. "
   ]
  },
  {
   "cell_type": "code",
   "execution_count": 5,
   "metadata": {},
   "outputs": [
    {
     "name": "stdout",
     "output_type": "stream",
     "text": [
      "list after adding two fruits ['orange', 'apple', 'greenapple', 'banna', 'mango', 'chery', 'crips']\n",
      "list after remove last one  ['orange', 'apple', 'greenapple', 'banna', 'mango', 'chery']\n"
     ]
    }
   ],
   "source": [
    "#create list of fruits\n",
    "fruits=['orange','apple','greenapple','banna','mango']\n",
    "#add two new fruits use built in function append\n",
    "fruits.append('chery')\n",
    "fruits.append('crips')\n",
    "print(\"list after adding two fruits\",fruits)\n",
    "#use remove built in function \n",
    "fruits.remove('crips')\n",
    "print(\"list after remove last one \", fruits)\n"
   ]
  },
  {
   "cell_type": "markdown",
   "metadata": {},
   "source": [
    "Part 2: Tuples and Dictionaries (30 points) "
   ]
  },
  {
   "cell_type": "markdown",
   "metadata": {},
   "source": [
    "Create a tuple that contains 5 different cities. \n",
    "\n",
    "o Access and print the second city in the tuple. \n",
    "\n",
    "o Try to change the value of the second city in the tuple and explain why it does not work. "
   ]
  },
  {
   "cell_type": "code",
   "execution_count": null,
   "metadata": {},
   "outputs": [
    {
     "name": "stdout",
     "output_type": "stream",
     "text": [
      "the second city is : paris\n"
     ]
    }
   ],
   "source": [
    "#create tuple and fill it with cities\n",
    "cities =('cairo','paris','madrid','barca','alex')\n",
    "print(\"the second city is :\",cities[1])\n",
    "cities[1]='barlin' #it will give error tuples can not change "
   ]
  },
  {
   "cell_type": "markdown",
   "metadata": {},
   "source": [
    "\n",
    "Write a Python program that creates a dictionary with the following keys and \n",
    "values: \n",
    "\n",
    "o 'name': 'John', 'age': 30, 'city': 'New York'. Then:\n",
    "\n",
    "o Print the value of the 'age' key. \n",
    "\n",
    "o Add a new key-value pair 'job': 'Engineer' to the dictionary. \n",
    "\n",
    "o Remove the 'city' key and print the updated dictionary. "
   ]
  },
  {
   "cell_type": "code",
   "execution_count": 49,
   "metadata": {},
   "outputs": [
    {
     "name": "stdout",
     "output_type": "stream",
     "text": [
      "the age of john is  30\n",
      "data update is  {'name': 'john', 'age': 30, 'job': 'engineer'}\n"
     ]
    }
   ],
   "source": [
    "#creating dic and fill it with data\n",
    "data={'name':'john','age':30,'city':'new york'}\n",
    "print(\"the age of john is \",data['age'])\n",
    "data['job']='engineer'\n",
    "#remove in dic using pop function\n",
    "\n",
    "data.pop('city')\n",
    "\n",
    "print(\"data update is \",data)"
   ]
  },
  {
   "cell_type": "markdown",
   "metadata": {},
   "source": [
    " Write a Python program that: \n",
    "\n",
    "o Creates a dictionary to store the names and ages of 3 people. \n",
    "\n",
    "o Print each person's name and their corresponding age using a loop. "
   ]
  },
  {
   "cell_type": "code",
   "execution_count": 10,
   "metadata": {},
   "outputs": [
    {
     "name": "stdout",
     "output_type": "stream",
     "text": [
      "mariam age of 22\n",
      "ali age of 20\n",
      "layla age of 23\n"
     ]
    }
   ],
   "source": [
    "#creat the dictionary\n",
    "persons={'mariam':22,'ali':20,'layla':23}\n",
    "#using function dot items is to loop on both key and its value \n",
    "for name,age in persons.items():\n",
    "    print(f\"{name} age of {age}\")"
   ]
  },
  {
   "cell_type": "markdown",
   "metadata": {},
   "source": [
    "Part 3: Conditional Statements (30 points) \n"
   ]
  },
  {
   "cell_type": "markdown",
   "metadata": {},
   "source": [
    " Write a Python program that takes the user's age as input and prints: \n",
    "\n",
    "o 'Adult' if the age is 18 or older. \n",
    "\n",
    "o 'Minor' if the age is less than 18. "
   ]
  },
  {
   "cell_type": "code",
   "execution_count": 12,
   "metadata": {},
   "outputs": [
    {
     "name": "stdout",
     "output_type": "stream",
     "text": [
      "adult\n"
     ]
    }
   ],
   "source": [
    "#ask user to enter his age\n",
    "age = int(input(\"enter your age\"))\n",
    "#create if condition\n",
    "if age>=18:\n",
    "    print('adult')\n",
    "else:\n",
    "    print('minor')    "
   ]
  },
  {
   "cell_type": "markdown",
   "metadata": {},
   "source": [
    " Write a Python program that checks if a number entered by the user is: \n",
    "\n",
    "o 'Even' if it is divisible by 2. \n",
    "\n",
    "o 'Odd' if it is not divisible by 2. "
   ]
  },
  {
   "cell_type": "code",
   "execution_count": 13,
   "metadata": {},
   "outputs": [
    {
     "name": "stdout",
     "output_type": "stream",
     "text": [
      "odd\n"
     ]
    }
   ],
   "source": [
    "#ask user to enter his num\n",
    "num = int(input(\"enter your num\"))\n",
    "#create if condition using modulus\n",
    "if num%2==0:\n",
    "    print('even')\n",
    "else:\n",
    "    print('odd') \n",
    "       "
   ]
  },
  {
   "cell_type": "markdown",
   "metadata": {},
   "source": [
    "Write a Python program that: \n",
    "\n",
    "o Takes a score from the user and prints the grade based on the following criteria: \n",
    "\n",
    "▪ 90 and above: 'A' \n",
    "\n",
    "▪ 70-89: 'B' \n",
    "\n",
    "▪ 50-69: 'C' \n",
    "\n",
    "▪ Below 50: 'F' "
   ]
  },
  {
   "cell_type": "code",
   "execution_count": 16,
   "metadata": {},
   "outputs": [
    {
     "name": "stdout",
     "output_type": "stream",
     "text": [
      "B\n"
     ]
    }
   ],
   "source": [
    "#ask user to enter his age\n",
    "score = int(input(\"enter your score\"))\n",
    "#create if condition\n",
    "if score>=90:\n",
    "    print('A')\n",
    "elif (score>=70 and score<=89):\n",
    "    print('B')\n",
    "elif (score>=50 and score<=69):\n",
    "    print('C')\n",
    "elif score<50:\n",
    "    print('F')          "
   ]
  },
  {
   "cell_type": "markdown",
   "metadata": {},
   "source": [
    "Part 4: Loops (30 points) "
   ]
  },
  {
   "cell_type": "markdown",
   "metadata": {},
   "source": [
    "Write a Python program that uses a for loop to print all even numbers \n",
    "between 1 and 20. "
   ]
  },
  {
   "cell_type": "code",
   "execution_count": 19,
   "metadata": {},
   "outputs": [
    {
     "name": "stdout",
     "output_type": "stream",
     "text": [
      "2\n",
      "4\n",
      "6\n",
      "8\n",
      "10\n",
      "12\n",
      "14\n",
      "16\n",
      "18\n",
      "20\n"
     ]
    }
   ],
   "source": [
    "#use counter from 1 to 20\n",
    "for i in range(2,21,2):\n",
    "  print(i)"
   ]
  },
  {
   "cell_type": "markdown",
   "metadata": {},
   "source": [
    "Write a Python program that uses a while loop to print the numbers from 10 \n",
    "to 1, in descending order. "
   ]
  },
  {
   "cell_type": "code",
   "execution_count": null,
   "metadata": {},
   "outputs": [
    {
     "name": "stdout",
     "output_type": "stream",
     "text": [
      "10\n",
      "9\n",
      "8\n",
      "7\n",
      "6\n",
      "5\n",
      "4\n",
      "3\n",
      "2\n",
      "1\n"
     ]
    }
   ],
   "source": [
    "#craete num with intiale value \n",
    "num=10\n",
    "while(num!=0):\n",
    "    print(num)\n",
    "    num-=1"
   ]
  },
  {
   "cell_type": "markdown",
   "metadata": {},
   "source": [
    " Write a Python program that: \n",
    "\n",
    "• Asks the user to input a number. \n",
    "\n",
    "• Then, using a for loop, calculates the sum of all numbers from 1 to the entered number \n",
    "\n",
    "(inclusive) and prints the result."
   ]
  },
  {
   "cell_type": "code",
   "execution_count": 29,
   "metadata": {},
   "outputs": [
    {
     "name": "stdout",
     "output_type": "stream",
     "text": [
      "sum till number of 4 is  10\n"
     ]
    }
   ],
   "source": [
    "#ask user to enter his num\n",
    "number = int(input(\"enter your num\"))\n",
    "sum=0\n",
    "#your range from 1 to number plus one \n",
    "for i in range (1,number+1):\n",
    "    sum+=i\n",
    "print(f\"sum till number of {number} is \",sum )\n"
   ]
  },
  {
   "cell_type": "markdown",
   "metadata": {},
   "source": [
    "Part 5: Input Function and User Interaction (20 points)"
   ]
  },
  {
   "cell_type": "markdown",
   "metadata": {},
   "source": [
    "Write a Python program that asks the user for their name and age, then prints \n",
    "\n",
    "a message saying: \"Hello, [name]! You are [age] years old.\" "
   ]
  },
  {
   "cell_type": "code",
   "execution_count": null,
   "metadata": {},
   "outputs": [
    {
     "name": "stdout",
     "output_type": "stream",
     "text": [
      "Hello, mariam! You are 23 years old.\n"
     ]
    }
   ],
   "source": [
    "#take age and name from user \n",
    "name=input(\"what is your name\")\n",
    "age=input(\"how old are you\")\n",
    "print(f\"Hello, {name}! You are {age} years old.\")"
   ]
  },
  {
   "cell_type": "markdown",
   "metadata": {},
   "source": [
    "Write a Python program that asks the user for their favorite color and checks \n",
    "\n",
    "if it is 'blue'. If it is, print \"You have great taste!\", otherwise print \"That's a \n",
    "\n",
    "nice color too!\""
   ]
  },
  {
   "cell_type": "code",
   "execution_count": null,
   "metadata": {},
   "outputs": [
    {
     "name": "stdout",
     "output_type": "stream",
     "text": [
      "You have great taste!\n"
     ]
    }
   ],
   "source": [
    "color=input(\"what is your fav color\")\n",
    "#here .lower is user to standard the formate wihle cecking \n",
    "if color.lower()=='blue':\n",
    "    print(\"You have great taste!\")\n",
    "else:\n",
    "    print(\"That's a nice color too!\")    "
   ]
  },
  {
   "cell_type": "markdown",
   "metadata": {},
   "source": [
    "Bonus Question (10 points)\n",
    "\n",
    "Write a Python program that asks the user to enter a list of 5 numbers. \n",
    "Then: \n",
    "\n",
    "• Calculate and print the average of the numbers. \n",
    "\n",
    "• Print the largest and smallest numbers from the list. "
   ]
  },
  {
   "cell_type": "code",
   "execution_count": 43,
   "metadata": {},
   "outputs": [
    {
     "name": "stdout",
     "output_type": "stream",
     "text": [
      "the aveage is  3.0\n",
      "the largeest is 5\n",
      "the smallest is 1\n"
     ]
    }
   ],
   "source": [
    "nums=[]\n",
    "total=0\n",
    "for i in range (5):\n",
    "   number=int(input(\"enter number\"))\n",
    "   nums.append(number)\n",
    "for i in range(len(nums)):\n",
    "    total+=nums[i]\n",
    "average=float(total)/len(nums)\n",
    "print(\"the aveage is \",average)\n",
    "print(\"the largeest is\",max(nums))\n",
    "print(\"the smallest is\",min(nums))\n",
    "\n"
   ]
  }
 ],
 "metadata": {
  "kernelspec": {
   "display_name": "Python 3",
   "language": "python",
   "name": "python3"
  },
  "language_info": {
   "codemirror_mode": {
    "name": "ipython",
    "version": 3
   },
   "file_extension": ".py",
   "mimetype": "text/x-python",
   "name": "python",
   "nbconvert_exporter": "python",
   "pygments_lexer": "ipython3",
   "version": "3.13.0"
  }
 },
 "nbformat": 4,
 "nbformat_minor": 2
}
