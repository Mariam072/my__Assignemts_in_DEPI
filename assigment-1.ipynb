{
 "cells": [
  {
   "cell_type": "code",
   "execution_count": null,
   "metadata": {},
   "outputs": [
    {
     "name": "stdout",
     "output_type": "stream",
     "text": [
      "hello world\n"
     ]
    }
   ],
   "source": [
    "#print function\n",
    "print(\"hello world\")"
   ]
  },
  {
   "cell_type": "code",
   "execution_count": null,
   "metadata": {},
   "outputs": [
    {
     "name": "stdout",
     "output_type": "stream",
     "text": [
      "name: mariam ,age:2 ,job: DS\n"
     ]
    }
   ],
   "source": [
    "#print more than one thing\n",
    "print('name: mariam ,age:2 ,job: DS')"
   ]
  },
  {
   "cell_type": "code",
   "execution_count": null,
   "metadata": {},
   "outputs": [
    {
     "name": "stdout",
     "output_type": "stream",
     "text": [
      "name: mariam \n",
      "age:22\n",
      "job: DS \n"
     ]
    }
   ],
   "source": [
    "#TRIPLE QUOTE FOR MULTILINES can also used for large comment without print  \n",
    "print(\"\"\"\n",
    "name: mariam \n",
    "age:22\n",
    "job: DS \"\"\")   "
   ]
  },
  {
   "cell_type": "code",
   "execution_count": null,
   "metadata": {},
   "outputs": [
    {
     "data": {
      "text/plain": [
       "200"
      ]
     },
     "execution_count": 6,
     "metadata": {},
     "output_type": "execute_result"
    }
   ],
   "source": [
    "#print without using a function\n",
    "x=100\n",
    "y=100\n",
    "z=x+y\n",
    "z"
   ]
  },
  {
   "cell_type": "code",
   "execution_count": null,
   "metadata": {},
   "outputs": [
    {
     "name": "stdout",
     "output_type": "stream",
     "text": [
      "hello Mariam\n",
      "MARIAM\n",
      "hassan\n"
     ]
    }
   ],
   "source": [
    "#using concatunation with strings\n",
    "first_name=\"Mariam\"\n",
    "last_name=\"Hassan\"\n",
    "first_name+\" \"+last_name\n",
    "print(\"hello\",first_name)\n",
    "#use upper and lower built in function\n",
    "print(first_name.upper())\n",
    "print(last_name.lower())"
   ]
  },
  {
   "cell_type": "markdown",
   "metadata": {},
   "source": [
    "\n",
    "1-Write a Python program to print the following message on the screen: \n",
    "\"Hello, Python learners! Today we start our coding journey.\" \n",
    "\n",
    "2-Challenge: Print a multi-line message using triple quotes that includes your name and \n",
    "favorite programming language. \n"
   ]
  },
  {
   "cell_type": "code",
   "execution_count": null,
   "metadata": {},
   "outputs": [
    {
     "name": "stdout",
     "output_type": "stream",
     "text": [
      "\n",
      "Hello,\n",
      "Python learners!\n",
      "Today we start our coding journey.\n"
     ]
    }
   ],
   "source": [
    "#print multipe lines with one print functin using triple qoutes\n",
    "print(\"\"\"\n",
    "Hello,\n",
    "Python learners!\n",
    "Today we start our coding journey.\"\"\")"
   ]
  },
  {
   "cell_type": "markdown",
   "metadata": {},
   "source": [
    "1-Challenge: Create three variables of different data types (integer, float, and string). Print \n",
    "each variable with a description of its data type."
   ]
  },
  {
   "cell_type": "code",
   "execution_count": 66,
   "metadata": {},
   "outputs": [
    {
     "name": "stdout",
     "output_type": "stream",
     "text": [
      "the age : 22 type: <class 'int'>\n",
      "the gpa: 3.9 type: <class 'float'>\n",
      "the name: mariam type: <class 'str'>\n"
     ]
    }
   ],
   "source": [
    "#create three different variabes\n",
    "age=22\n",
    "gpa=3.9\n",
    "name= \"mariam\"\n",
    "#print variables and types using buit in type function\n",
    "print(\"the age :\",age,\"type:\",type(age))\n",
    "print(\"the gpa:\",gpa,\"type:\",type(gpa))\n",
    "print(\"the name:\",name,\"type:\",type(name))\n",
    "\n"
   ]
  },
  {
   "cell_type": "markdown",
   "metadata": {},
   "source": [
    "\n",
    "1- Given the string text = \"Python is amazing\", write a program to extract and print the \n",
    "word \"amazing\" from it.\n",
    "\n",
    "2-Challenge: Concatenate two strings, first_name and last_name, with a space in between, and \n",
    "print the full name in uppercase. "
   ]
  },
  {
   "cell_type": "code",
   "execution_count": 68,
   "metadata": {},
   "outputs": [
    {
     "name": "stdout",
     "output_type": "stream",
     "text": [
      "full name is : MARIAM HASSAN\n"
     ]
    }
   ],
   "source": [
    "#assign value string of first and last name \n",
    "first_name=\"Mariam\"\n",
    "last_name=\"Hassan\"\n",
    "#then concatunate them and add a sepration between them \n",
    "full_name=first_name+' '+last_name\n",
    "print(\"full name is :\",full_name.upper())"
   ]
  },
  {
   "cell_type": "code",
   "execution_count": null,
   "metadata": {},
   "outputs": [
    {
     "name": "stdout",
     "output_type": "stream",
     "text": [
      "amazing\n"
     ]
    }
   ],
   "source": [
    "#extract the last word by index method\n",
    "string =\"python is amazing\"\n",
    "print(string[10:17])"
   ]
  },
  {
   "cell_type": "markdown",
   "metadata": {},
   "source": [
    "\n",
    " \n",
    "1- Write a program to calculate the area of a rectangle with a width of 5 and a height of \n",
    "\n",
    "2-Challenge: Create two numbers, a = 20 and b = 7, and print the result of each arithmetic \n",
    "operation: addition, subtraction, multiplication, division, and modulo."
   ]
  },
  {
   "cell_type": "code",
   "execution_count": null,
   "metadata": {},
   "outputs": [
    {
     "name": "stdout",
     "output_type": "stream",
     "text": [
      "sum 27\n",
      "sub 13\n",
      "mul 140\n",
      "div 2.857142857142857\n",
      "mod 6\n"
     ]
    }
   ],
   "source": [
    "#assign a values to variables and use them to make operation\n",
    "a=20\n",
    "b=7\n",
    "print(\"sum\",a+b)\n",
    "print(\"sub\",a-b)\n",
    "print(\"mul\",a*b)\n",
    "print(\"div\",a/b)\n",
    "print(\"mod\",a%b)"
   ]
  },
  {
   "cell_type": "code",
   "execution_count": 71,
   "metadata": {},
   "outputs": [
    {
     "name": "stdout",
     "output_type": "stream",
     "text": [
      "the area\n"
     ]
    },
    {
     "data": {
      "text/plain": [
       "50"
      ]
     },
     "execution_count": 71,
     "metadata": {},
     "output_type": "execute_result"
    }
   ],
   "source": [
    "#calculate  area of rectangle\n",
    "width=5\n",
    "height=10\n",
    "area=width*height\n",
    "print(\"the area\")\n",
    "area"
   ]
  },
  {
   "cell_type": "markdown",
   "metadata": {},
   "source": [
    "1-Create a list of five of your favorite foods. Print the entire list, then print the third \n",
    "item in the list.\n",
    " \n",
    "2-Challenge: Convert the list into a tuple, and try to change the first item in the tuple. Observe \n",
    "and explain the result. "
   ]
  },
  {
   "cell_type": "code",
   "execution_count": null,
   "metadata": {},
   "outputs": [
    {
     "data": {
      "text/plain": [
       "'cherry'"
      ]
     },
     "execution_count": 47,
     "metadata": {},
     "output_type": "execute_result"
    }
   ],
   "source": [
    "#make a list of fruits and choose third item to print\n",
    "food=['apple','banna','cherry','orange','mango']\n",
    "food[2]"
   ]
  },
  {
   "cell_type": "code",
   "execution_count": null,
   "metadata": {},
   "outputs": [
    {
     "ename": "TypeError",
     "evalue": "'tuple' object does not support item assignment",
     "output_type": "error",
     "traceback": [
      "\u001b[1;31m---------------------------------------------------------------------------\u001b[0m",
      "\u001b[1;31mTypeError\u001b[0m                                 Traceback (most recent call last)",
      "Cell \u001b[1;32mIn[48], line 2\u001b[0m\n\u001b[0;32m      1\u001b[0m food\u001b[38;5;241m=\u001b[39m(\u001b[38;5;124m'\u001b[39m\u001b[38;5;124mapple\u001b[39m\u001b[38;5;124m'\u001b[39m,\u001b[38;5;124m'\u001b[39m\u001b[38;5;124mbanna\u001b[39m\u001b[38;5;124m'\u001b[39m,\u001b[38;5;124m'\u001b[39m\u001b[38;5;124mcherry\u001b[39m\u001b[38;5;124m'\u001b[39m,\u001b[38;5;124m'\u001b[39m\u001b[38;5;124morange\u001b[39m\u001b[38;5;124m'\u001b[39m,\u001b[38;5;124m'\u001b[39m\u001b[38;5;124mmango\u001b[39m\u001b[38;5;124m'\u001b[39m)\n\u001b[1;32m----> 2\u001b[0m \u001b[43mfood\u001b[49m\u001b[43m[\u001b[49m\u001b[38;5;241;43m2\u001b[39;49m\u001b[43m]\u001b[49m\u001b[38;5;241m=\u001b[39m\u001b[38;5;124m'\u001b[39m\u001b[38;5;124mgreat\u001b[39m\u001b[38;5;124m'\u001b[39m\n\u001b[0;32m      3\u001b[0m food[\u001b[38;5;241m2\u001b[39m]\n",
      "\u001b[1;31mTypeError\u001b[0m: 'tuple' object does not support item assignment"
     ]
    }
   ],
   "source": [
    "#try to change the tuple gives error as we can not change in tuple values \n",
    "food=('apple','banna','cherry','orange','mango')\n",
    "food[2]='great'\n",
    "food[2]"
   ]
  },
  {
   "cell_type": "markdown",
   "metadata": {},
   "source": [
    "1-Given the string sentence = \"Learning Python is fun!\", write a program to slice and \n",
    "print the word \"Python\" from it.\n",
    "\n",
    "2-Challenge: Replace the word \"fun\" with \"awesome\" in the sentence and print the new \n",
    "sentence"
   ]
  },
  {
   "cell_type": "code",
   "execution_count": null,
   "metadata": {},
   "outputs": [
    {
     "name": "stdout",
     "output_type": "stream",
     "text": [
      "python\n"
     ]
    }
   ],
   "source": [
    "#trying to extract python by index method\n",
    "string=\"learning python is fun\"\n",
    "print(string[9:15])"
   ]
  },
  {
   "cell_type": "code",
   "execution_count": null,
   "metadata": {},
   "outputs": [
    {
     "data": {
      "text/plain": [
       "'learning python is awsome!'"
      ]
     },
     "execution_count": 53,
     "metadata": {},
     "output_type": "execute_result"
    }
   ],
   "source": [
    "#using replace function to replace to words \n",
    "string=\"learning python is fun!\"\n",
    "string.replace(\"fun\",\"awsome\")"
   ]
  },
  {
   "cell_type": "markdown",
   "metadata": {},
   "source": [
    "1-Create a dictionary called student with the keys name, age, and grade. Assign values \n",
    "to each key and print the dictionary.\n",
    "\n",
    "2-Challenge: Add a new key city to the dictionary and set it to any city name. Print the \n",
    "updated dictionary. "
   ]
  },
  {
   "cell_type": "code",
   "execution_count": 74,
   "metadata": {},
   "outputs": [
    {
     "name": "stdout",
     "output_type": "stream",
     "text": [
      "student data is:  {'name': 'mariam', 'age': 22, 'grade': 'a'}\n"
     ]
    }
   ],
   "source": [
    "#make a dictionary and print it \n",
    "student ={'name':'mariam','age':22,'grade':'a'}\n",
    "print(\"student data is: \",student)"
   ]
  },
  {
   "cell_type": "code",
   "execution_count": 75,
   "metadata": {},
   "outputs": [
    {
     "name": "stdout",
     "output_type": "stream",
     "text": [
      "student data is:  {'name': 'mariam', 'age': 22, 'grade': 'a', 'ctiy': 'cairo'}\n"
     ]
    }
   ],
   "source": [
    "#add new key to dictionary \n",
    "student['ctiy']='cairo'\n",
    "print(\"student data is: \",student)"
   ]
  },
  {
   "cell_type": "markdown",
   "metadata": {},
   "source": [
    "1- Write a program that takes two numbers from the user and prints their sum, \n",
    "difference, product, and division result.\n",
    " \n",
    "2-Challenge: Use the modulo operator to check if the first number is divisible by the second \n",
    "number, and print the result as \"Divisible\" or \"Not Divisible\"."
   ]
  },
  {
   "cell_type": "code",
   "execution_count": null,
   "metadata": {},
   "outputs": [
    {
     "name": "stdout",
     "output_type": "stream",
     "text": [
      "sum 20.0\n",
      "sub 0.0\n",
      "mul 100.0\n",
      "div 1.0\n"
     ]
    }
   ],
   "source": [
    "#use function input for taking a value from user and cast it to float to give right value for all operations\n",
    "#a is first num\n",
    "#b is second num\n",
    "a=float(input(\"enter first number\"))\n",
    "b=float(input(\"enter second number\"))\n",
    "print(\"sum\",a+b)\n",
    "print(\"sub\",a-b)\n",
    "print(\"mul\",a*b)\n",
    "print(\"div\",a/b)\n"
   ]
  },
  {
   "cell_type": "code",
   "execution_count": null,
   "metadata": {},
   "outputs": [
    {
     "name": "stdout",
     "output_type": "stream",
     "text": [
      "divisable\n"
     ]
    }
   ],
   "source": [
    "#check using if condition and modulus for diviabilty of two number \n",
    "if a%b ==0:\n",
    "  print(\"divisable\")\n",
    "else:\n",
    "  print(\"non-divisable\")"
   ]
  },
  {
   "cell_type": "code",
   "execution_count": null,
   "metadata": {},
   "outputs": [],
   "source": []
  }
 ],
 "metadata": {
  "kernelspec": {
   "display_name": "ml",
   "language": "python",
   "name": "ml"
  },
  "language_info": {
   "codemirror_mode": {
    "name": "ipython",
    "version": 3
   },
   "file_extension": ".py",
   "mimetype": "text/x-python",
   "name": "python",
   "nbconvert_exporter": "python",
   "pygments_lexer": "ipython3",
   "version": "3.11.4"
  }
 },
 "nbformat": 4,
 "nbformat_minor": 2
}
